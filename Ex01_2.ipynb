{
  "nbformat": 4,
  "nbformat_minor": 0,
  "metadata": {
    "colab": {
      "provenance": [],
      "authorship_tag": "ABX9TyMKL5jnoCoQD6COFdBFx+bX",
      "include_colab_link": true
    },
    "kernelspec": {
      "name": "python3",
      "display_name": "Python 3"
    },
    "language_info": {
      "name": "python"
    }
  },
  "cells": [
    {
      "cell_type": "markdown",
      "metadata": {
        "id": "view-in-github",
        "colab_type": "text"
      },
      "source": [
        "<a href=\"https://colab.research.google.com/github/N-Syuri/PAMI/blob/main/Ex01_2.ipynb\" target=\"_parent\"><img src=\"https://colab.research.google.com/assets/colab-badge.svg\" alt=\"Open In Colab\"/></a>"
      ]
    },
    {
      "cell_type": "markdown",
      "source": [
        "# Topic 1 : Basic Syntax for Markdown"
      ],
      "metadata": {
        "id": "Tj2j0LPB_ZPd"
      }
    },
    {
      "cell_type": "markdown",
      "source": [
        "## 1.Putting Headings:"
      ],
      "metadata": {
        "id": "401fi2d8ADZe"
      }
    },
    {
      "cell_type": "markdown",
      "source": [
        "select Markdown of code and execute the <br>cell."
      ],
      "metadata": {
        "id": "O7Ua_-zYAHto"
      }
    },
    {
      "cell_type": "code",
      "source": [
        "#Heading level 1\n",
        "##Heading level 2\n",
        "### Heading level 3\n",
        "#### Heading level 4\n",
        "##### Heading level 5\n",
        "###### Heading level 6\n",
        "\n",
        "# Write the above lines in a cell, choose the markdown instead of Code in\n",
        "# compile the markdown and print below code. DO NOT WRITE THESE LINES TO"
      ],
      "metadata": {
        "id": "JFzuvYpdBLbb"
      },
      "execution_count": null,
      "outputs": []
    },
    {
      "cell_type": "markdown",
      "source": [
        "# Heading level 1"
      ],
      "metadata": {
        "id": "PmNRAjkWBlIl"
      }
    },
    {
      "cell_type": "markdown",
      "source": [
        "## Heading level 2"
      ],
      "metadata": {
        "id": "fcuPVQ9nBvHH"
      }
    },
    {
      "cell_type": "markdown",
      "source": [
        "### Heading level 3"
      ],
      "metadata": {
        "id": "SLDGmpCtBvef"
      }
    },
    {
      "cell_type": "markdown",
      "source": [
        "####Heading level 4"
      ],
      "metadata": {
        "id": "g_KNhp-dBvxs"
      }
    },
    {
      "cell_type": "markdown",
      "source": [
        "#####Heading level 5"
      ],
      "metadata": {
        "id": "uLpl1dknBwJX"
      }
    },
    {
      "cell_type": "markdown",
      "source": [
        "######Heading level 6"
      ],
      "metadata": {
        "id": "I4Gj0o4kBwzB"
      }
    },
    {
      "cell_type": "markdown",
      "source": [
        "## 2. Writing Bold letters"
      ],
      "metadata": {
        "id": "0J4VVDzLCDQ2"
      }
    },
    {
      "cell_type": "markdown",
      "source": [
        "###remove # in the below text for markdown"
      ],
      "metadata": {
        "id": "XBt1B0ccCDtY"
      }
    },
    {
      "cell_type": "code",
      "source": [
        "# __two underscores before and after the text__"
      ],
      "metadata": {
        "id": "m12NtmGKCNWf"
      },
      "execution_count": null,
      "outputs": []
    },
    {
      "cell_type": "markdown",
      "source": [
        "#####**single underscore before and after the text**"
      ],
      "metadata": {
        "id": "ewXsw-7_1M1_"
      }
    },
    {
      "cell_type": "markdown",
      "source": [
        "##3. Writing italic letters\n"
      ],
      "metadata": {
        "id": "Es97cifC0B8Y"
      }
    },
    {
      "cell_type": "code",
      "source": [
        "# _single underscore before and after the text_"
      ],
      "metadata": {
        "id": "cHAKKZnK0ROs"
      },
      "execution_count": null,
      "outputs": []
    },
    {
      "cell_type": "markdown",
      "source": [
        "#####*single underscore before and after the text*"
      ],
      "metadata": {
        "id": "9wLpe4vD1P5s"
      }
    },
    {
      "cell_type": "markdown",
      "source": [
        "## 4. Dotted Points"
      ],
      "metadata": {
        "id": "BRwS5e7l1VP3"
      }
    },
    {
      "cell_type": "code",
      "source": [
        "# - Dash before text\n",
        "# - will print the text\n",
        "# - with numbered point"
      ],
      "metadata": {
        "id": "TZl4_8871ho9"
      },
      "execution_count": null,
      "outputs": []
    },
    {
      "cell_type": "markdown",
      "source": [
        "*   Dot before text\n",
        "*   will print the text\n",
        "*   with numbered point\n",
        "\n"
      ],
      "metadata": {
        "id": "C5jNs9sT1lga"
      }
    },
    {
      "cell_type": "markdown",
      "source": [
        "##5. Numbered points\n"
      ],
      "metadata": {
        "id": "9plCRNCo135B"
      }
    },
    {
      "cell_type": "code",
      "source": [
        "# 1. sample\n",
        "# 2. text\n",
        "# 3. test"
      ],
      "metadata": {
        "id": "nDXkBsO93RH4"
      },
      "execution_count": null,
      "outputs": []
    },
    {
      "cell_type": "markdown",
      "source": [
        "\n",
        "\n",
        "1.   sample\n",
        "2.   test\n",
        "3.   test\n",
        "\n"
      ],
      "metadata": {
        "id": "mD7fH-Th3YfX"
      }
    },
    {
      "cell_type": "markdown",
      "source": [
        "##6. Creating Tables:"
      ],
      "metadata": {
        "id": "5LkHWaaV4LM3"
      }
    },
    {
      "cell_type": "code",
      "source": [
        "# | Heading 1 | Heading 2 |\n",
        "# | ----------- | ----------- |\n",
        "# | 1 | xx |\n",
        "# | 2 | yy |"
      ],
      "metadata": {
        "id": "t_SfHra14Ov8"
      },
      "execution_count": null,
      "outputs": []
    },
    {
      "cell_type": "markdown",
      "source": [
        " | Heading 1 | Heading 2 |\n",
        " | ----------- | ----------- |\n",
        " | 1 | xx |\n",
        " | 2 | yy |\n"
      ],
      "metadata": {
        "id": "uWYViasA4Tae"
      }
    },
    {
      "cell_type": "markdown",
      "source": [
        "##7. Images:"
      ],
      "metadata": {
        "id": "vtvjY4Rt5Dpu"
      }
    },
    {
      "cell_type": "code",
      "source": [
        "from IPython.display import Image as IPImage\n",
        "from IPython.display import display_jpeg\n",
        "\n",
        "display_jpeg(IPImage('apple_image.jpg'))"
      ],
      "metadata": {
        "colab": {
          "base_uri": "https://localhost:8080/",
          "height": 629
        },
        "id": "D0Lxptl_7uwe",
        "outputId": "763ea5c8-8d8c-4da5-a4dd-0090306ebd2c"
      },
      "execution_count": 36,
      "outputs": [
        {
          "output_type": "display_data",
          "data": {
            "image/jpeg": "[encoded data removed]"
          },
          "metadata": {}
        }
      ]
    },
    {
      "cell_type": "markdown",
      "source": [
        "## 8. Underscore text"
      ],
      "metadata": {
        "id": "uAWDjdMpgR59"
      }
    },
    {
      "cell_type": "code",
      "source": [
        "# <u>Underscore text </u>"
      ],
      "metadata": {
        "id": "59R6exvqgai3"
      },
      "execution_count": null,
      "outputs": []
    },
    {
      "cell_type": "markdown",
      "source": [
        "##### <u>Underscore text </u>"
      ],
      "metadata": {
        "id": "ZYgqbI4ThGX8"
      }
    },
    {
      "cell_type": "markdown",
      "source": [
        "## 9. Horizontal line"
      ],
      "metadata": {
        "id": "h0rBAxyghKRz"
      }
    },
    {
      "cell_type": "code",
      "source": [
        "# ***"
      ],
      "metadata": {
        "id": "2aEpkFJQhRYH"
      },
      "execution_count": null,
      "outputs": []
    },
    {
      "cell_type": "markdown",
      "source": [
        "***"
      ],
      "metadata": {
        "id": "jzJMr_Dthf8f"
      }
    },
    {
      "cell_type": "code",
      "source": [],
      "metadata": {
        "id": "gAzWH-_Khjzy"
      },
      "execution_count": null,
      "outputs": []
    },
    {
      "cell_type": "markdown",
      "source": [
        "# Topic 2 : Basic Python Programming"
      ],
      "metadata": {
        "id": "SoJ1y6PrhkXd"
      }
    },
    {
      "cell_type": "markdown",
      "source": [
        "## Step 1: print \"Hello World\""
      ],
      "metadata": {
        "id": "FGzqUn5Ehp7p"
      }
    },
    {
      "cell_type": "code",
      "source": [
        "print(\"Hello World\")"
      ],
      "metadata": {
        "colab": {
          "base_uri": "https://localhost:8080/"
        },
        "id": "91kJXwCNhuqh",
        "outputId": "e8d1dc5d-4be8-42ca-ddcb-805f7ab840d6"
      },
      "execution_count": null,
      "outputs": [
        {
          "output_type": "stream",
          "name": "stdout",
          "text": [
            "Hello World\n"
          ]
        }
      ]
    },
    {
      "cell_type": "markdown",
      "source": [
        "## Step 2: Create a Numeric Variable"
      ],
      "metadata": {
        "id": "8wgz5D2OiGfu"
      }
    },
    {
      "cell_type": "code",
      "source": [
        "a = 10"
      ],
      "metadata": {
        "id": "6e9GVJRkiSPZ"
      },
      "execution_count": null,
      "outputs": []
    },
    {
      "cell_type": "markdown",
      "source": [
        "## Step 3: Print above created variable"
      ],
      "metadata": {
        "id": "JuLXMkkBjI73"
      }
    },
    {
      "cell_type": "code",
      "source": [
        "print(a)"
      ],
      "metadata": {
        "colab": {
          "base_uri": "https://localhost:8080/"
        },
        "id": "ey_kzcUmjLmz",
        "outputId": "faf3cd39-b330-4e01-c635-8221d5f50ed4"
      },
      "execution_count": null,
      "outputs": [
        {
          "output_type": "stream",
          "name": "stdout",
          "text": [
            "10\n"
          ]
        }
      ]
    },
    {
      "cell_type": "markdown",
      "source": [
        "## Step 4: Print the type of above variable"
      ],
      "metadata": {
        "id": "6BdLgODAjlU9"
      }
    },
    {
      "cell_type": "code",
      "source": [
        "print(type(a))"
      ],
      "metadata": {
        "colab": {
          "base_uri": "https://localhost:8080/"
        },
        "id": "-ZfDlJtFjq5S",
        "outputId": "a002fb64-2a72-4a64-88c3-0beed0589e21"
      },
      "execution_count": null,
      "outputs": [
        {
          "output_type": "stream",
          "name": "stdout",
          "text": [
            "<class 'int'>\n"
          ]
        }
      ]
    },
    {
      "cell_type": "markdown",
      "source": [
        "## Step 5: Create a String Variable & Print"
      ],
      "metadata": {
        "id": "I6Ewiz0Jkffb"
      }
    },
    {
      "cell_type": "code",
      "source": [
        "string = \"Hello\""
      ],
      "metadata": {
        "id": "A0Ye7m6mmM6t"
      },
      "execution_count": null,
      "outputs": []
    },
    {
      "cell_type": "markdown",
      "source": [
        "## Step 5.1: Access 2nd element in above string"
      ],
      "metadata": {
        "id": "NnpHmpjjmQG9"
      }
    },
    {
      "cell_type": "code",
      "source": [
        "print(string[1])"
      ],
      "metadata": {
        "colab": {
          "base_uri": "https://localhost:8080/"
        },
        "id": "lw4Djz_xmQkO",
        "outputId": "2d3e6bc8-7378-4cd7-8200-6f5b7a776f0d"
      },
      "execution_count": null,
      "outputs": [
        {
          "output_type": "stream",
          "name": "stdout",
          "text": [
            "e\n"
          ]
        }
      ]
    },
    {
      "cell_type": "markdown",
      "source": [
        "## Step 5.2: Find the length of above string"
      ],
      "metadata": {
        "id": "cVS0fsK-nM4c"
      }
    },
    {
      "cell_type": "code",
      "source": [
        "print(len(string))"
      ],
      "metadata": {
        "colab": {
          "base_uri": "https://localhost:8080/"
        },
        "id": "McNG9vFRnNj5",
        "outputId": "90706d94-87a8-48a2-e950-07ef925cf4b2"
      },
      "execution_count": null,
      "outputs": [
        {
          "output_type": "stream",
          "name": "stdout",
          "text": [
            "5\n"
          ]
        }
      ]
    },
    {
      "cell_type": "markdown",
      "source": [
        "## Step 5.3: Create another String and compare the strings"
      ],
      "metadata": {
        "id": "UBHNtuyTndRb"
      }
    },
    {
      "cell_type": "code",
      "source": [
        "string2 = \"World\"\n",
        "if string == string2:\n",
        "   print(\"Both Strings are same.\")\n",
        "else:\n",
        " print(\"Both Strings are not same.\")"
      ],
      "metadata": {
        "colab": {
          "base_uri": "https://localhost:8080/"
        },
        "id": "1SMXpfnknsho",
        "outputId": "1f4daa04-d68c-402e-83bd-24687a72da69"
      },
      "execution_count": null,
      "outputs": [
        {
          "output_type": "stream",
          "name": "stdout",
          "text": [
            "Both Strings are not same.\n"
          ]
        }
      ]
    },
    {
      "cell_type": "markdown",
      "source": [
        "## Step 5.4: Perform Concatenation operation"
      ],
      "metadata": {
        "id": "uTsTq_kkny-0"
      }
    },
    {
      "cell_type": "code",
      "source": [
        "string3 = string + string2\n",
        "print(string3)"
      ],
      "metadata": {
        "colab": {
          "base_uri": "https://localhost:8080/"
        },
        "id": "XBt6JmEEoJYf",
        "outputId": "5e8b093c-3fdb-4cd8-e4c1-60158718df13"
      },
      "execution_count": null,
      "outputs": [
        {
          "output_type": "stream",
          "name": "stdout",
          "text": [
            "HelloWorld\n"
          ]
        }
      ]
    },
    {
      "cell_type": "markdown",
      "source": [
        "## Step 6: Create a list"
      ],
      "metadata": {
        "id": "ed2s1TeGoNyk"
      }
    },
    {
      "cell_type": "code",
      "source": [
        "sampleList = [3, 5, 6, 18, 10]"
      ],
      "metadata": {
        "id": "qZ5JqIhdoOam"
      },
      "execution_count": null,
      "outputs": []
    },
    {
      "cell_type": "markdown",
      "source": [
        "## Step 6.1: Find the length of above list"
      ],
      "metadata": {
        "id": "4yVikKNJoPMi"
      }
    },
    {
      "cell_type": "code",
      "source": [
        "print(len(sampleList))"
      ],
      "metadata": {
        "colab": {
          "base_uri": "https://localhost:8080/"
        },
        "id": "NQcf-mvUoPm2",
        "outputId": "d2740fbc-dd63-48a4-a650-0dc479b4bb50"
      },
      "execution_count": null,
      "outputs": [
        {
          "output_type": "stream",
          "name": "stdout",
          "text": [
            "5\n"
          ]
        }
      ]
    },
    {
      "cell_type": "markdown",
      "source": [
        "## Step 6.2: Iterate above list using for loop."
      ],
      "metadata": {
        "id": "6WQV-MiKoeN_"
      }
    },
    {
      "cell_type": "code",
      "source": [
        "for i in sampleList:\n",
        " print(i)"
      ],
      "metadata": {
        "colab": {
          "base_uri": "https://localhost:8080/"
        },
        "id": "NqZwIkTUofUO",
        "outputId": "2ff1aca6-835a-4eba-fea2-585c092323e8"
      },
      "execution_count": null,
      "outputs": [
        {
          "output_type": "stream",
          "name": "stdout",
          "text": [
            "3\n",
            "5\n",
            "6\n",
            "18\n",
            "10\n"
          ]
        }
      ]
    },
    {
      "cell_type": "markdown",
      "source": [
        "## Step 6.3: Add another element in to above list"
      ],
      "metadata": {
        "id": "RQFmXOtjo6hs"
      }
    },
    {
      "cell_type": "code",
      "source": [
        "sampleList.append(22)"
      ],
      "metadata": {
        "id": "E0B9uM5vo7C_"
      },
      "execution_count": null,
      "outputs": []
    },
    {
      "cell_type": "markdown",
      "source": [
        "## Step 6.4: Remove one element from above list"
      ],
      "metadata": {
        "id": "kQHuGp-Ro8gx"
      }
    },
    {
      "cell_type": "code",
      "source": [
        "sampleList.remove(3)"
      ],
      "metadata": {
        "id": "KFNMXv6to8Vx"
      },
      "execution_count": null,
      "outputs": []
    },
    {
      "cell_type": "markdown",
      "source": [
        "## Step 6.5: Find the minimum and maximum numbers exists in above list."
      ],
      "metadata": {
        "id": "PqcdwBfYpYba"
      }
    },
    {
      "cell_type": "code",
      "source": [
        "print(min(sampleList))\n",
        "print(max(sampleList))"
      ],
      "metadata": {
        "colab": {
          "base_uri": "https://localhost:8080/"
        },
        "id": "aaC34wqdpY-F",
        "outputId": "aa6e56df-1bc6-4dc2-eeaf-d182d54b8d23"
      },
      "execution_count": null,
      "outputs": [
        {
          "output_type": "stream",
          "name": "stdout",
          "text": [
            "5\n",
            "22\n"
          ]
        }
      ]
    },
    {
      "cell_type": "markdown",
      "source": [
        "## Step 7: Getting input as a string from User"
      ],
      "metadata": {
        "id": "TdiWwhbppZb2"
      }
    },
    {
      "cell_type": "code",
      "source": [
        "name = input(\"Enter your name:\")"
      ],
      "metadata": {
        "colab": {
          "base_uri": "https://localhost:8080/"
        },
        "id": "AT-nQCABpaOE",
        "outputId": "f8b99364-e624-40d4-a5f8-bd1e5558c779"
      },
      "execution_count": null,
      "outputs": [
        {
          "name": "stdout",
          "output_type": "stream",
          "text": [
            "Enter your name:Hello Likhitha ! \n"
          ]
        }
      ]
    },
    {
      "cell_type": "markdown",
      "source": [
        "## Step 8: Displaying output: string"
      ],
      "metadata": {
        "id": "rvLPiTaZq_fC"
      }
    },
    {
      "cell_type": "code",
      "source": [
        "print(\"Hello \" + name + \" ! \")"
      ],
      "metadata": {
        "colab": {
          "base_uri": "https://localhost:8080/"
        },
        "id": "FzL5TjzUq_46",
        "outputId": "27e23f6c-9854-447f-8d13-d42ada6f4e43"
      },
      "execution_count": null,
      "outputs": [
        {
          "output_type": "stream",
          "name": "stdout",
          "text": [
            "Hello Hello Likhitha !  ! \n"
          ]
        }
      ]
    },
    {
      "cell_type": "markdown",
      "source": [
        "## Step 9: Getting input as a int from User"
      ],
      "metadata": {
        "id": "pbbxObPorAhr"
      }
    },
    {
      "cell_type": "code",
      "source": [
        "num = int(input(\"Enter a number: \"))"
      ],
      "metadata": {
        "colab": {
          "base_uri": "https://localhost:8080/"
        },
        "id": "J5MZA-itrBH9",
        "outputId": "7459eab4-91ed-4fc2-8200-0ac4843ac929"
      },
      "execution_count": null,
      "outputs": [
        {
          "name": "stdout",
          "output_type": "stream",
          "text": [
            "Enter a number: 360\n"
          ]
        }
      ]
    },
    {
      "cell_type": "markdown",
      "source": [
        "## Step 10: Dispay the input"
      ],
      "metadata": {
        "id": "y7pH6EMCsEWO"
      }
    },
    {
      "cell_type": "code",
      "source": [
        "print(num)"
      ],
      "metadata": {
        "colab": {
          "base_uri": "https://localhost:8080/"
        },
        "id": "axme18gAsHl3",
        "outputId": "dcacad5a-ba8f-4536-e294-5362da505c2c"
      },
      "execution_count": null,
      "outputs": [
        {
          "output_type": "stream",
          "name": "stdout",
          "text": [
            "360\n"
          ]
        }
      ]
    },
    {
      "cell_type": "markdown",
      "source": [
        "## Step 11: Different ways to print int and string"
      ],
      "metadata": {
        "id": "sGi9VFIosMCU"
      }
    },
    {
      "cell_type": "code",
      "source": [
        "a = 20\n",
        "b = 10\n",
        "sum = a + b\n",
        "# Several ways to print\n",
        "print(\"The total sum of values a and b is: {}\".format(sum))\n",
        "print(\"The total sum of values a and b is: %d\" %sum)\n",
        "print(\"The total sum of values a and b is:\", sum)\n"
      ],
      "metadata": {
        "colab": {
          "base_uri": "https://localhost:8080/"
        },
        "id": "2dWXodnzsOZt",
        "outputId": "c8fc1dce-da38-448b-fed6-a150a62403d1"
      },
      "execution_count": null,
      "outputs": [
        {
          "output_type": "stream",
          "name": "stdout",
          "text": [
            "The total sum of values a and b is: 30\n",
            "The total sum of values a and b is: 30\n",
            "The total sum of values a and b is: 30\n"
          ]
        }
      ]
    },
    {
      "cell_type": "markdown",
      "source": [
        "## Step 12: Getting multiple inputs from the user:"
      ],
      "metadata": {
        "id": "1rJ02KHysR-u"
      }
    },
    {
      "cell_type": "code",
      "source": [
        "a, b, c = input(\"Enter any three values: \").split()\n",
        "print(\"First number: \", a)\n",
        "print(\"Second number: \", b)\n",
        "print(\"Third number: \", c)"
      ],
      "metadata": {
        "colab": {
          "base_uri": "https://localhost:8080/"
        },
        "id": "QwvH3B_asacd",
        "outputId": "5096e779-b020-49e2-84b4-2a5e331845bc"
      },
      "execution_count": null,
      "outputs": [
        {
          "output_type": "stream",
          "name": "stdout",
          "text": [
            "Enter any three values: 1 2 3\n",
            "First number:  1\n",
            "Second number:  2\n",
            "Third number:  3\n"
          ]
        }
      ]
    },
    {
      "cell_type": "markdown",
      "source": [
        "## Step 13: Define a function using \"def\""
      ],
      "metadata": {
        "id": "umdHd0vcsd79"
      }
    },
    {
      "cell_type": "code",
      "source": [
        "def HelloWorld():\n",
        " print(\"Hello World\")"
      ],
      "metadata": {
        "id": "5E7AKrcYseia"
      },
      "execution_count": null,
      "outputs": []
    },
    {
      "cell_type": "markdown",
      "source": [
        "## Step 14: Call the above function"
      ],
      "metadata": {
        "id": "9Lt-RLV6sl6N"
      }
    },
    {
      "cell_type": "code",
      "source": [
        "HelloWorld()"
      ],
      "metadata": {
        "colab": {
          "base_uri": "https://localhost:8080/"
        },
        "id": "DNnPt_gIsn0j",
        "outputId": "0a8c1ebf-1c67-4050-cedc-3c27ba83a438"
      },
      "execution_count": null,
      "outputs": [
        {
          "output_type": "stream",
          "name": "stdout",
          "text": [
            "Hello World\n"
          ]
        }
      ]
    },
    {
      "cell_type": "code",
      "source": [],
      "metadata": {
        "id": "7DVIOgumsrEU"
      },
      "execution_count": null,
      "outputs": []
    },
    {
      "cell_type": "markdown",
      "source": [
        "# Topic 3 : Advanced Python Programming"
      ],
      "metadata": {
        "id": "sw-hBiyJsrnk"
      }
    },
    {
      "cell_type": "markdown",
      "source": [
        "## 1. pip install Command:"
      ],
      "metadata": {
        "id": "itinRfeysyQZ"
      }
    },
    {
      "cell_type": "code",
      "source": [
        "## Syntax: !pip install package-name\n",
        "!pip install pami"
      ],
      "metadata": {
        "id": "9VAxUBN0sxZM"
      },
      "execution_count": null,
      "outputs": []
    },
    {
      "cell_type": "markdown",
      "source": [
        "## 2. Reading and Processing .CSV file:"
      ],
      "metadata": {
        "id": "QLkWHftMtFxl"
      }
    },
    {
      "cell_type": "code",
      "source": [
        "# Reading a .csv file\n",
        "import csv\n",
        "file = open('fileName.csv')\n",
        "csvreader = csv.reader(file)\n",
        "# Printing Column names in csv file\n",
        "header = next(csvreader)\n",
        "print(header)"
      ],
      "metadata": {
        "id": "tEQ3EBQks6nn"
      },
      "execution_count": null,
      "outputs": []
    },
    {
      "cell_type": "markdown",
      "source": [
        "## 3. Reading CSV with pandas:"
      ],
      "metadata": {
        "id": "2jqW_xdatZSy"
      }
    },
    {
      "cell_type": "code",
      "source": [
        "# Reading csv file into a dataframe\n",
        "import pandas as pd\n",
        "df = pd.read_csv('inputFileName.csv')\n",
        "# If you get error to open the file using the above code give absolute pa\n",
        "# df = pd.read_csv('Exercise_1/inputFileName.csv')\n",
        "# You can get absolute path by right click -> copy path.\n",
        "# Printing the first rows of dataframe\n",
        "print(df.head())\n",
        "# Printing the column names\n",
        "print(df.columns)\n",
        "# Dropping columns from dataframe\n",
        "print(df.drop('stationId', axis=1))\n",
        "# Printing number of rows and columns in dataframe\n",
        "print(df.shape)"
      ],
      "metadata": {
        "id": "5dmwHyGftdRO"
      },
      "execution_count": null,
      "outputs": []
    },
    {
      "cell_type": "markdown",
      "source": [
        "## 4. How to add code description?"
      ],
      "metadata": {
        "id": "XMgIjN82tdry"
      }
    },
    {
      "cell_type": "code",
      "source": [
        "# Add the description about the code using comments.\n",
        "def hello_world():\n",
        " # A simple comment preceding a simple print statement\n",
        " print(\"Hello World\")"
      ],
      "metadata": {
        "id": "kdfh4crwteYI"
      },
      "execution_count": null,
      "outputs": []
    }
  ]
}